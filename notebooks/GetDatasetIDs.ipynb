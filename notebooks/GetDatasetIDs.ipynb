{
 "cells": [
  {
   "cell_type": "code",
   "execution_count": 1,
   "id": "9d076001-f0a1-43ac-b1b9-09474da3e7cd",
   "metadata": {},
   "outputs": [],
   "source": [
    "import os\n",
    "\n",
    "# These are the default AWS configurations for the Analysis Sandbox.\n",
    "# that are set in the environmnet variables. \n",
    "aws_default_config = {\n",
    "    #'AWS_NO_SIGN_REQUEST': 'YES', \n",
    "    'AWS_SECRET_ACCESS_KEY': 'fake',\n",
    "    'AWS_ACCESS_KEY_ID': 'fake',\n",
    "}\n",
    "\n",
    "# To access public bucket, need to remove the AWS credentials in \n",
    "# the environment variables or the following error will occur.\n",
    "# PermissionError: The AWS Access Key Id you provided does not exist in our records.\n",
    "\n",
    "for key in aws_default_config.keys():\n",
    "    if key in os.environ:\n",
    "        del os.environ[key]"
   ]
  },
  {
   "cell_type": "code",
   "execution_count": 2,
   "id": "e4376388-bc52-41f3-897a-977914e74216",
   "metadata": {},
   "outputs": [],
   "source": [
    "import subprocess\n",
    "import datetime"
   ]
  },
  {
   "cell_type": "code",
   "execution_count": 3,
   "id": "39b2e07e-2549-4054-851e-0462eeade464",
   "metadata": {},
   "outputs": [],
   "source": [
    "current_datetime = datetime.datetime.now().strftime(\"%Y%m%d%H%M%S\")"
   ]
  },
  {
   "cell_type": "code",
   "execution_count": 4,
   "id": "e0d996c7-597d-4e5f-bc0d-19bce62d5df9",
   "metadata": {},
   "outputs": [],
   "source": [
    "product = \"wofs_ls\"\n",
    "temporal_range = \"time in [2023-01-01, 2023-01-15]\"\n",
    "polygons_vector_file = \"s3://deafrica-waterbodies-dev/0-0-1/shapefile/senegalbasinwaterbodies.shp\"\n",
    "use_id = \"UID\"\n",
    "output_file_path = f\"s3://deafrica-waterbodies-dev/0-0-1/timeseries/conflux/conflux_ids_{current_datetime}.txt\"\n",
    "num_worker = 16"
   ]
  },
  {
   "cell_type": "code",
   "execution_count": 5,
   "id": "df962831-dce9-4963-a0bc-028b6162659d",
   "metadata": {},
   "outputs": [
    {
     "data": {
      "text/plain": [
       "['/home/jovyan/.local/bin/deafrica-conflux',\n",
       " 'get-dataset-ids',\n",
       " 'wofs_ls',\n",
       " 'time',\n",
       " 'in',\n",
       " '[2023-01-01,',\n",
       " '2023-01-15]',\n",
       " '-v',\n",
       " '--polygons-vector-file=s3://deafrica-waterbodies-dev/0-0-1/shapefile/senegalbasinwaterbodies.shp',\n",
       " '--use-id=UID',\n",
       " '--output-file-path=s3://deafrica-waterbodies-dev/0-0-1/timeseries/conflux/conflux_ids_20230904122236.txt',\n",
       " '--num-worker=16']"
      ]
     },
     "execution_count": 5,
     "metadata": {},
     "output_type": "execute_result"
    }
   ],
   "source": [
    "executable = \"/home/jovyan/.local/bin/deafrica-conflux\"\n",
    "cmd  = f\"{executable} get-dataset-ids {product} {temporal_range} -v --polygons-vector-file={polygons_vector_file} --use-id={use_id} --output-file-path={output_file_path} --num-worker={num_worker}\"\n",
    "cmd = cmd.split(\" \")\n",
    "cmd"
   ]
  },
  {
   "cell_type": "code",
   "execution_count": 6,
   "id": "0916a233-60e5-4269-872a-06e3ed8a9ef3",
   "metadata": {},
   "outputs": [
    {
     "name": "stdout",
     "output_type": "stream",
     "text": [
      "[2023-09-04 12:22:41,870] {get_dataset_ids.py:80} INFO - Polygons vector file RAM usage: 2237320 bytes.\n"
     ]
    },
    {
     "name": "stderr",
     "output_type": "stream",
     "text": [
      "5244it [06:52, 12.71it/s]\n"
     ]
    },
    {
     "name": "stdout",
     "output_type": "stream",
     "text": [
      "[2023-09-04 12:29:34,864] {get_dataset_ids.py:90} INFO - Found 145 datasets.\n",
      "[2023-09-04 12:29:34,876] {credentials.py:1254} INFO - Found credentials in shared credentials file: ~/.aws/credentials\n",
      "[2023-09-04 12:29:35,124] {io.py:360} INFO - Bucket {bucket_name} exists.\n",
      "[2023-09-04 12:29:35,237] {io.py:414} INFO - Object s3://deafrica-waterbodies-dev/0-0-1/timeseries/conflux/conflux_ids_20230904122236.txt does not exist.\n",
      "[2023-09-04 12:29:35,382] {credentials.py:620} INFO - Found credentials in shared credentials file: ~/.aws/credentials\n",
      "[2023-09-04 12:29:35,599] {get_dataset_ids.py:113} INFO - Dataset IDs written to: s3://deafrica-waterbodies-dev/0-0-1/timeseries/conflux/conflux_ids_20230904122236.txt.\n"
     ]
    },
    {
     "data": {
      "text/plain": [
       "CompletedProcess(args=['/home/jovyan/.local/bin/deafrica-conflux', 'get-dataset-ids', 'wofs_ls', 'time', 'in', '[2023-01-01,', '2023-01-15]', '-v', '--polygons-vector-file=s3://deafrica-waterbodies-dev/0-0-1/shapefile/senegalbasinwaterbodies.shp', '--use-id=UID', '--output-file-path=s3://deafrica-waterbodies-dev/0-0-1/timeseries/conflux/conflux_ids_20230904122236.txt', '--num-worker=16'], returncode=0)"
      ]
     },
     "execution_count": 6,
     "metadata": {},
     "output_type": "execute_result"
    }
   ],
   "source": [
    "subprocess.run(cmd)"
   ]
  }
 ],
 "metadata": {
  "kernelspec": {
   "display_name": "Python 3 (ipykernel)",
   "language": "python",
   "name": "python3"
  },
  "language_info": {
   "codemirror_mode": {
    "name": "ipython",
    "version": 3
   },
   "file_extension": ".py",
   "mimetype": "text/x-python",
   "name": "python",
   "nbconvert_exporter": "python",
   "pygments_lexer": "ipython3",
   "version": "3.10.12"
  }
 },
 "nbformat": 4,
 "nbformat_minor": 5
}
