{
 "cells": [
  {
   "cell_type": "code",
   "execution_count": 1,
   "id": "9d076001-f0a1-43ac-b1b9-09474da3e7cd",
   "metadata": {},
   "outputs": [],
   "source": [
    "import os\n",
    "\n",
    "# These are the default AWS configurations for the Analysis Sandbox.\n",
    "# that are set in the environmnet variables. \n",
    "aws_default_config = {\n",
    "    #'AWS_NO_SIGN_REQUEST': 'YES', \n",
    "    'AWS_SECRET_ACCESS_KEY': 'fake',\n",
    "    'AWS_ACCESS_KEY_ID': 'fake',\n",
    "}\n",
    "\n",
    "# To access public bucket, need to remove the AWS credentials in \n",
    "# the environment variables or the following error will occur.\n",
    "# PermissionError: The AWS Access Key Id you provided does not exist in our records.\n",
    "\n",
    "for key in aws_default_config.keys():\n",
    "    if key in os.environ:\n",
    "        del os.environ[key]"
   ]
  },
  {
   "cell_type": "code",
   "execution_count": 2,
   "id": "e4376388-bc52-41f3-897a-977914e74216",
   "metadata": {},
   "outputs": [],
   "source": [
    "import subprocess\n",
    "import uuid as pyuuid"
   ]
  },
  {
   "cell_type": "code",
   "execution_count": 3,
   "id": "e0d996c7-597d-4e5f-bc0d-19bce62d5df9",
   "metadata": {},
   "outputs": [],
   "source": [
    "product = \"wofs_ls\"\n",
    "temporal_range = \"time in [2023-01-01, 2023-01-15]\"\n",
    "polygons_vector_file = \"s3://deafrica-waterbodies-dev/0-0-1/shapefile/senegalbasinwaterbodies.shp\"\n",
    "use_id = \"UID\"\n",
    "output_file_path = f\"s3://deafrica-waterbodies-dev/0-0-1/timeseries/conflux/conflux_ids_{str(pyuuid.uuid4())}.txt\"\n",
    "num_worker = 4"
   ]
  },
  {
   "cell_type": "code",
   "execution_count": 4,
   "id": "df962831-dce9-4963-a0bc-028b6162659d",
   "metadata": {},
   "outputs": [
    {
     "data": {
      "text/plain": [
       "['/home/jovyan/.local/bin/deafrica-conflux',\n",
       " 'get-dataset-ids',\n",
       " 'wofs_ls',\n",
       " 'time',\n",
       " 'in',\n",
       " '[2023-01-01,',\n",
       " '2023-01-15]',\n",
       " '-v',\n",
       " '--polygons-vector-file=s3://deafrica-waterbodies-dev/0-0-1/shapefile/senegalbasinwaterbodies.shp',\n",
       " '--use-id=UID',\n",
       " '--output-file-path=s3://deafrica-waterbodies-dev/0-0-1/timeseries/conflux/conflux_ids_4755758f-9b45-4d7b-be19-a81098d2cfd6.txt',\n",
       " '--num-worker=4']"
      ]
     },
     "execution_count": 4,
     "metadata": {},
     "output_type": "execute_result"
    }
   ],
   "source": [
    "executable = \"/home/jovyan/.local/bin/deafrica-conflux\"\n",
    "cmd  = f\"{executable} get-dataset-ids {product} {temporal_range} -v --polygons-vector-file={polygons_vector_file} --use-id={use_id} --output-file-path={output_file_path} --num-worker={num_worker}\"\n",
    "cmd = cmd.split(\" \")\n",
    "cmd"
   ]
  },
  {
   "cell_type": "code",
   "execution_count": 5,
   "id": "0916a233-60e5-4269-872a-06e3ed8a9ef3",
   "metadata": {},
   "outputs": [
    {
     "name": "stdout",
     "output_type": "stream",
     "text": [
      "[2023-08-31 14:45:39,310] {get_dataset_ids.py:81} INFO - Polygons vector file RAM usage: 1732408 bytes.\n"
     ]
    },
    {
     "name": "stderr",
     "output_type": "stream",
     "text": [
      "5244it [07:43, 11.32it/s]\n"
     ]
    },
    {
     "name": "stdout",
     "output_type": "stream",
     "text": [
      "[2023-08-31 14:53:22,575] {credentials.py:1254} INFO - Found credentials in shared credentials file: ~/.aws/credentials\n",
      "[2023-08-31 14:53:22,818] {io.py:260} INFO - Bucket {bucket_name} exists.\n",
      "[2023-08-31 14:53:22,929] {get_dataset_ids.py:97} INFO - Dataset ids will be saved to s3 file\n",
      "[2023-08-31 14:53:23,073] {credentials.py:620} INFO - Found credentials in shared credentials file: ~/.aws/credentials\n",
      "[2023-08-31 14:53:23,322] {get_dataset_ids.py:121} INFO - Dataset IDs written to: s3://deafrica-waterbodies-dev/0-0-1/timeseries/conflux/conflux_ids_4755758f-9b45-4d7b-be19-a81098d2cfd6.txt.\n"
     ]
    },
    {
     "data": {
      "text/plain": [
       "CompletedProcess(args=['/home/jovyan/.local/bin/deafrica-conflux', 'get-dataset-ids', 'wofs_ls', 'time', 'in', '[2023-01-01,', '2023-01-15]', '-v', '--polygons-vector-file=s3://deafrica-waterbodies-dev/0-0-1/shapefile/senegalbasinwaterbodies.shp', '--use-id=UID', '--output-file-path=s3://deafrica-waterbodies-dev/0-0-1/timeseries/conflux/conflux_ids_4755758f-9b45-4d7b-be19-a81098d2cfd6.txt', '--num-worker=4'], returncode=0)"
      ]
     },
     "execution_count": 5,
     "metadata": {},
     "output_type": "execute_result"
    }
   ],
   "source": [
    "subprocess.run(cmd)"
   ]
  }
 ],
 "metadata": {
  "kernelspec": {
   "display_name": "Python 3 (ipykernel)",
   "language": "python",
   "name": "python3"
  },
  "language_info": {
   "codemirror_mode": {
    "name": "ipython",
    "version": 3
   },
   "file_extension": ".py",
   "mimetype": "text/x-python",
   "name": "python",
   "nbconvert_exporter": "python",
   "pygments_lexer": "ipython3",
   "version": "3.10.12"
  }
 },
 "nbformat": 4,
 "nbformat_minor": 5
}
