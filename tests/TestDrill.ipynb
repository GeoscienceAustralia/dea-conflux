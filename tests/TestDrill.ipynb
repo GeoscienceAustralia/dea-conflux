{
 "cells": [
  {
   "cell_type": "code",
   "execution_count": 1,
   "id": "7658a1e2-79b5-4d16-bedb-70aa82a146fd",
   "metadata": {},
   "outputs": [],
   "source": [
    "import logging\n",
    "import sys\n",
    "from pathlib import Path\n",
    "\n",
    "import datacube\n",
    "import geopandas as gpd\n",
    "import pytest\n",
    "\n",
    "import deafrica_conflux.drill\n",
    "from deafrica_conflux.id_field import guess_id_field\n",
    "from deafrica_conflux.plugins.utils import validate_plugin, run_plugin\n",
    "\n",
    "logging.basicConfig(level=logging.INFO)"
   ]
  },
  {
   "cell_type": "code",
   "execution_count": 2,
   "id": "828b5b32-9777-4990-8c12-952bd3e43fd8",
   "metadata": {},
   "outputs": [],
   "source": [
    "# Connect to datacube.\n",
    "dc = datacube.Datacube(app='test')"
   ]
  },
  {
   "cell_type": "code",
   "execution_count": 3,
   "id": "f3172b8f-aa56-4f45-abe9-3128d6d3e1e3",
   "metadata": {},
   "outputs": [],
   "source": [
    "plugin = run_plugin(\"plugins/sum_wet.py\")\n",
    "uuid = \"6d1d62de-5edd-5892-9dcc-9e1616251411\"\n",
    "datasets = deafrica_conflux.drill.find_datasets_for_plugin(dc, plugin, uuid)\n",
    "assert len(datasets) == 1\n",
    "assert str(datasets[\"wofs_ls\"].id) == uuid"
   ]
  },
  {
   "cell_type": "code",
   "execution_count": 4,
   "id": "8fabfd7e-ca06-42d8-9fc5-d769ae42f983",
   "metadata": {},
   "outputs": [
    {
     "name": "stderr",
     "output_type": "stream",
     "text": [
      "INFO:deafrica_conflux.drill:Reference scene is Frozen({'time': 1, 'y': 8556, 'x': 6722})\n"
     ]
    }
   ],
   "source": [
    "plugin = run_plugin(\"plugins/timeseries.py\")\n",
    "uuid = \"d15407ff-3fe5-55ec-a713-d4cc9399e6b3\"\n",
    "polygons_gdf = gpd.read_file(\"data/edumesbb2.geojson\")\n",
    "\n",
    "id_field = guess_id_field(polygons_gdf, \"UID\")\n",
    "polygons_gdf.set_index(id_field, inplace=True)\n",
    "\n",
    "drill_result = deafrica_conflux.drill.drill(plugin,\n",
    "                                            polygons_gdf,\n",
    "                                            uuid,\n",
    "                                            partial=True,\n",
    "                                            dc=dc)\n",
    "assert len(drill_result) == pytest.approx(86, 1)\n",
    "# 7 columns, 3 output and 4 directions\n",
    "assert len(drill_result.columns) == 7\n",
    "assert \"conflux_n\" in drill_result.columns"
   ]
  },
  {
   "cell_type": "code",
   "execution_count": 5,
   "id": "b036c8dd-5e8a-48ba-a183-79c9d8a3205c",
   "metadata": {},
   "outputs": [],
   "source": [
    "uid = \"effd8637-1cd0-585b-84b4-b739e8626544\"\n",
    "polygons_gdf = gpd.read_file(\"data/edumesbb2.geojson\")\n",
    "\n",
    "ds_extent = dc.index.datasets.get(uid).extent.to_crs(polygons_gdf.crs)\n",
    "ds_extent_geom = ds_extent.geom\n",
    "\n",
    "intersection = polygons_gdf.geometry.intersection(ds_extent_geom)\n",
    "dirs = deafrica_conflux.drill._get_directions(polygons_gdf.geometry[0], intersection.geometry[0])\n",
    "assert dirs == {\"South\"}"
   ]
  },
  {
   "cell_type": "code",
   "execution_count": 17,
   "id": "a0ebefab-f167-4c29-856c-07aba5b23b2b",
   "metadata": {},
   "outputs": [
    {
     "name": "stderr",
     "output_type": "stream",
     "text": [
      "INFO:deafrica_conflux.drill:Reference scene is Frozen({'time': 2, 'y': 507, 'x': 443})\n"
     ]
    }
   ],
   "source": [
    "plugin = run_plugin(\"plugins/timeseries.py\")\n",
    "uuid = \"effd8637-1cd0-585b-84b4-b739e8626544\"\n",
    "polygons_gdf = gpd.read_file(\"data/edumesbb2.geojson\")\n",
    "\n",
    "id_field = guess_id_field(polygons_gdf, \"UID\")\n",
    "polygons_gdf.set_index(id_field, inplace=True)\n",
    "\n",
    "drill_result = deafrica_conflux.drill.drill(plugin,\n",
    "                                            polygons_gdf,\n",
    "                                            uuid,\n",
    "                                            partial=True,\n",
    "                                            overedge=True,\n",
    "                                            dc=dc)\n",
    "assert len(drill_result) == 1\n",
    "assert drill_result[\"wet_percentage\"].iloc[0] == 42.39275304214028"
   ]
  },
  {
   "cell_type": "code",
   "execution_count": 21,
   "id": "4c6dc27b-c153-426a-acc8-806651d25df7",
   "metadata": {},
   "outputs": [
    {
     "name": "stdout",
     "output_type": "stream",
     "text": [
      "{'South'}\n",
      "{'South'}\n",
      "{'South'}\n",
      "{'South'}\n",
      "{'South'}\n",
      "{'South'}\n",
      "{'South'}\n",
      "{'South'}\n",
      "{'South'}\n",
      "{'South'}\n",
      "{'South'}\n",
      "{'South'}\n",
      "{'South'}\n",
      "{'South'}\n",
      "{'South'}\n",
      "{'South'}\n",
      "{'South'}\n",
      "{'South'}\n",
      "{'South'}\n",
      "{'South'}\n",
      "{'South'}\n",
      "{'South'}\n",
      "{'South'}\n",
      "{'South'}\n"
     ]
    }
   ],
   "source": [
    "from deafrica_conflux.hopper import find_datasets\n",
    "datasets = find_datasets(query={}, products=[\"wofs_ls\"], dc=dc)\n",
    "dss = list(datasets)\n",
    "for ds in dss:\n",
    "    uuid = ds.id\n",
    "    #polygons_gdf = gpd.read_file(\"data/edumesbb2.geojson\")\n",
    "    #polygons_gdf = gpd.read_file(\"data/edvntx0mu.geojson\")\n",
    "    polygons_gdf = gpd.read_file(\"data/edumesbb2.geojson\")\n",
    "    \n",
    "    ds_extent = dc.index.datasets.get(uid).extent.to_crs(polygons_gdf.crs)\n",
    "    ds_extent_geom = ds_extent.geom\n",
    "    \n",
    "    intersection = polygons_gdf.geometry.intersection(ds_extent_geom)\n",
    "    dirs = deafrica_conflux.drill._get_directions(polygons_gdf.geometry[0], intersection.geometry[0])\n",
    "    print(dirs)"
   ]
  },
  {
   "cell_type": "code",
   "execution_count": null,
   "id": "a54ee313-4800-4837-bc37-b647bd92edf8",
   "metadata": {},
   "outputs": [],
   "source": [
    "wet_percentage"
   ]
  }
 ],
 "metadata": {
  "kernelspec": {
   "display_name": "Python 3 (ipykernel)",
   "language": "python",
   "name": "python3"
  },
  "language_info": {
   "codemirror_mode": {
    "name": "ipython",
    "version": 3
   },
   "file_extension": ".py",
   "mimetype": "text/x-python",
   "name": "python",
   "nbconvert_exporter": "python",
   "pygments_lexer": "ipython3",
   "version": "3.10.12"
  }
 },
 "nbformat": 4,
 "nbformat_minor": 5
}
